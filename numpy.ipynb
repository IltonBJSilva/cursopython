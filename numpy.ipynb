{
  "nbformat": 4,
  "nbformat_minor": 0,
  "metadata": {
    "colab": {
      "provenance": [],
      "toc_visible": true,
      "authorship_tag": "ABX9TyMiki7dwkPjclMIvvvN2wOX",
      "include_colab_link": true
    },
    "kernelspec": {
      "name": "python3",
      "display_name": "Python 3"
    },
    "language_info": {
      "name": "python"
    }
  },
  "cells": [
    {
      "cell_type": "markdown",
      "metadata": {
        "id": "view-in-github",
        "colab_type": "text"
      },
      "source": [
        "<a href=\"https://colab.research.google.com/github/IltonBJSilva/cursopython/blob/master/numpy.ipynb\" target=\"_parent\"><img src=\"https://colab.research.google.com/assets/colab-badge.svg\" alt=\"Open In Colab\"/></a>"
      ]
    },
    {
      "cell_type": "code",
      "execution_count": null,
      "metadata": {
        "id": "Lh2ugSyO3kmE"
      },
      "outputs": [],
      "source": [
        "import numpy as np\n",
        "from numpy.random import default_rng\n",
        "from time import process_time\n",
        "import matplotlib.pyplot as plt "
      ]
    },
    {
      "cell_type": "code",
      "source": [],
      "metadata": {
        "id": "qtjVwxJ_74DX"
      },
      "execution_count": null,
      "outputs": []
    },
    {
      "cell_type": "markdown",
      "source": [
        "\n",
        "# O que é  um array?\n",
        "tipos de arrays: ndarrays -> significa arrays com N dimensões\n",
        "\n",
        "1-D -> possui apenas uma dimensão, sera comumente chamado de vetor ou vector\n",
        "\n",
        "2-D -> possui 2  dimensões sera comumente chamado de matriz ou matrix\n",
        "\n",
        "3-D ou mais array -> possui 3 ou mais dimensões. Será comumente chamado de tensor "
      ],
      "metadata": {
        "id": "ggecn5E58KgW"
      }
    },
    {
      "cell_type": "code",
      "source": [
        "a = np.array([1,2,3,4])\n",
        "\n",
        "print(type(a))"
      ],
      "metadata": {
        "colab": {
          "base_uri": "https://localhost:8080/"
        },
        "id": "DZCTwZCW9Fqn",
        "outputId": "9aa93017-703b-4a1c-8127-b514019869d1"
      },
      "execution_count": null,
      "outputs": [
        {
          "output_type": "stream",
          "name": "stdout",
          "text": [
            "<class 'numpy.ndarray'>\n"
          ]
        }
      ]
    },
    {
      "cell_type": "code",
      "source": [
        "# Gerar 5 array com 3 linhas e 6 valores em  cada\n",
        "zero_array = np.zeros(shape = (5,3,6))\n",
        "print(zero_array)"
      ],
      "metadata": {
        "colab": {
          "base_uri": "https://localhost:8080/"
        },
        "id": "l9eUw-946MeA",
        "outputId": "2096b049-21b3-45bc-c8c5-6a9458ee53d2"
      },
      "execution_count": null,
      "outputs": [
        {
          "output_type": "stream",
          "name": "stdout",
          "text": [
            "[[[0. 0. 0. 0. 0. 0.]\n",
            "  [0. 0. 0. 0. 0. 0.]\n",
            "  [0. 0. 0. 0. 0. 0.]]\n",
            "\n",
            " [[0. 0. 0. 0. 0. 0.]\n",
            "  [0. 0. 0. 0. 0. 0.]\n",
            "  [0. 0. 0. 0. 0. 0.]]\n",
            "\n",
            " [[0. 0. 0. 0. 0. 0.]\n",
            "  [0. 0. 0. 0. 0. 0.]\n",
            "  [0. 0. 0. 0. 0. 0.]]\n",
            "\n",
            " [[0. 0. 0. 0. 0. 0.]\n",
            "  [0. 0. 0. 0. 0. 0.]\n",
            "  [0. 0. 0. 0. 0. 0.]]\n",
            "\n",
            " [[0. 0. 0. 0. 0. 0.]\n",
            "  [0. 0. 0. 0. 0. 0.]\n",
            "  [0. 0. 0. 0. 0. 0.]]]\n"
          ]
        }
      ]
    },
    {
      "cell_type": "code",
      "source": [
        "um_array = np.ones((5,2,9))\n",
        "print(um_array)"
      ],
      "metadata": {
        "colab": {
          "base_uri": "https://localhost:8080/"
        },
        "id": "ZwrUoYLnHHlN",
        "outputId": "db423794-7f90-40f8-cb4b-f6f9d7440dde"
      },
      "execution_count": null,
      "outputs": [
        {
          "output_type": "stream",
          "name": "stdout",
          "text": [
            "[[[1. 1. 1. 1. 1. 1. 1. 1. 1.]\n",
            "  [1. 1. 1. 1. 1. 1. 1. 1. 1.]]\n",
            "\n",
            " [[1. 1. 1. 1. 1. 1. 1. 1. 1.]\n",
            "  [1. 1. 1. 1. 1. 1. 1. 1. 1.]]\n",
            "\n",
            " [[1. 1. 1. 1. 1. 1. 1. 1. 1.]\n",
            "  [1. 1. 1. 1. 1. 1. 1. 1. 1.]]\n",
            "\n",
            " [[1. 1. 1. 1. 1. 1. 1. 1. 1.]\n",
            "  [1. 1. 1. 1. 1. 1. 1. 1. 1.]]\n",
            "\n",
            " [[1. 1. 1. 1. 1. 1. 1. 1. 1.]\n",
            "  [1. 1. 1. 1. 1. 1. 1. 1. 1.]]]\n"
          ]
        }
      ]
    },
    {
      "cell_type": "code",
      "source": [
        "vazio = np.empty((3,4))\n",
        "print(vazio)"
      ],
      "metadata": {
        "colab": {
          "base_uri": "https://localhost:8080/"
        },
        "id": "Ks3PAY3fMRVN",
        "outputId": "572ec839-3662-4deb-ddec-bbdfcadeb70e"
      },
      "execution_count": null,
      "outputs": [
        {
          "output_type": "stream",
          "name": "stdout",
          "text": [
            "[[4.9e-324 9.9e-324 1.5e-323 2.0e-323]\n",
            " [2.5e-323 3.0e-323 3.5e-323 4.0e-323]\n",
            " [4.4e-323 4.9e-323 5.4e-323 5.9e-323]]\n"
          ]
        }
      ]
    },
    {
      "cell_type": "code",
      "source": [
        "arr = np.arange(step = 30, start = 50, stop = 200)\n",
        "print(arr)"
      ],
      "metadata": {
        "id": "e75nuxx-MRPl",
        "colab": {
          "base_uri": "https://localhost:8080/"
        },
        "outputId": "23baf1d1-61d3-4654-d25b-b20d0bc22ae4"
      },
      "execution_count": null,
      "outputs": [
        {
          "output_type": "stream",
          "name": "stdout",
          "text": [
            "[ 50  80 110 140 170]\n"
          ]
        }
      ]
    },
    {
      "cell_type": "code",
      "source": [
        "#Valores baseados em sequencia\n",
        "array_linear = np.linspace(0, 100, num=40, retstep=False)\n",
        "print(array_linear)"
      ],
      "metadata": {
        "colab": {
          "base_uri": "https://localhost:8080/"
        },
        "id": "vT_0hMVUAIHr",
        "outputId": "35649f5d-9c32-45ce-c196-e9ba9e8ef3e0"
      },
      "execution_count": null,
      "outputs": [
        {
          "output_type": "stream",
          "name": "stdout",
          "text": [
            "[  0.           2.56410256   5.12820513   7.69230769  10.25641026\n",
            "  12.82051282  15.38461538  17.94871795  20.51282051  23.07692308\n",
            "  25.64102564  28.20512821  30.76923077  33.33333333  35.8974359\n",
            "  38.46153846  41.02564103  43.58974359  46.15384615  48.71794872\n",
            "  51.28205128  53.84615385  56.41025641  58.97435897  61.53846154\n",
            "  64.1025641   66.66666667  69.23076923  71.79487179  74.35897436\n",
            "  76.92307692  79.48717949  82.05128205  84.61538462  87.17948718\n",
            "  89.74358974  92.30769231  94.87179487  97.43589744 100.        ]\n"
          ]
        }
      ]
    },
    {
      "cell_type": "code",
      "source": [
        "# Gerar 5 array com 3 linhas e 6 valores em  cada\n",
        "\n",
        "print(zero_array.shape)\n",
        "print(zero_array.size)\n",
        "print(zero_array.ndim)\n"
      ],
      "metadata": {
        "colab": {
          "base_uri": "https://localhost:8080/"
        },
        "id": "gLndAeWwBznT",
        "outputId": "fdbb1040-a216-4e85-ed8a-0bf684537142"
      },
      "execution_count": null,
      "outputs": [
        {
          "output_type": "stream",
          "name": "stdout",
          "text": [
            "(5, 3, 6)\n",
            "90\n",
            "3\n"
          ]
        }
      ]
    },
    {
      "cell_type": "code",
      "source": [
        "a = np.array([1,2,3])\n",
        "print(a.ndim)"
      ],
      "metadata": {
        "colab": {
          "base_uri": "https://localhost:8080/"
        },
        "id": "MCXAxgdZDqiN",
        "outputId": "19c97a11-f063-4372-95c6-e6248984df67"
      },
      "execution_count": null,
      "outputs": [
        {
          "output_type": "stream",
          "name": "stdout",
          "text": [
            "1\n"
          ]
        }
      ]
    },
    {
      "cell_type": "code",
      "source": [
        "#Criando uma nova dimensão\n",
        "a2 = a[np.newaxis,:]\n",
        "print(a2.shape)\n",
        "print(a2.ndim)\n",
        "print(a2)"
      ],
      "metadata": {
        "colab": {
          "base_uri": "https://localhost:8080/"
        },
        "id": "53HJpAFxD4_a",
        "outputId": "365164e4-672f-47bc-8ef6-bb7bbeb9ba85"
      },
      "execution_count": null,
      "outputs": [
        {
          "output_type": "stream",
          "name": "stdout",
          "text": [
            "(1, 3)\n",
            "2\n",
            "[[1 2 3]]\n"
          ]
        }
      ]
    },
    {
      "cell_type": "code",
      "source": [
        "a21 = np.array([1,2,3])\n",
        " \n",
        "\n",
        "#Criando uma nova dimensão\n",
        "a22 = a21[:,np.newaxis]\n",
        "print(a22.shape)\n",
        "print(a22.ndim)\n",
        "print(a22)\n",
        "\n"
      ],
      "metadata": {
        "id": "gaeBoVBsESgD",
        "colab": {
          "base_uri": "https://localhost:8080/"
        },
        "outputId": "f92f420f-c976-4199-b08e-b4cbf3dbea5a"
      },
      "execution_count": null,
      "outputs": [
        {
          "output_type": "stream",
          "name": "stdout",
          "text": [
            "(3, 1)\n",
            "2\n",
            "[[1]\n",
            " [2]\n",
            " [3]]\n"
          ]
        }
      ]
    },
    {
      "cell_type": "code",
      "source": [
        "print(a22[1])"
      ],
      "metadata": {
        "colab": {
          "base_uri": "https://localhost:8080/"
        },
        "id": "ZSsIlpmf2MvT",
        "outputId": "b5b13b6a-70df-443d-f363-6033584abd49"
      },
      "execution_count": null,
      "outputs": [
        {
          "output_type": "stream",
          "name": "stdout",
          "text": [
            "[2]\n"
          ]
        }
      ]
    },
    {
      "cell_type": "markdown",
      "source": [
        "# Concatenando arrays:"
      ],
      "metadata": {
        "id": "dA3RWEfLB_6t"
      }
    },
    {
      "cell_type": "code",
      "source": [
        "b1 = np.array([1,2,3])\n",
        "b2 = np.array([4,5,6])\n",
        "c1 = np.concatenate((b1,b2))\n",
        "c2 = np.concatenate((b2,b1))\n",
        "\n",
        "print('C1 = ',c1,'-','C2 = ',c2)\n"
      ],
      "metadata": {
        "colab": {
          "base_uri": "https://localhost:8080/"
        },
        "id": "og7Qk1l2CAN8",
        "outputId": "a58b52b2-cae4-478b-dcc4-ff732e1396d8"
      },
      "execution_count": null,
      "outputs": [
        {
          "output_type": "stream",
          "name": "stdout",
          "text": [
            "C1 =  [1 2 3 4 5 6] - C2 =  [4 5 6 1 2 3]\n"
          ]
        }
      ]
    },
    {
      "cell_type": "code",
      "source": [
        "array_consulta = np.array([[1,2,3,4],[5,6,7,8],[9,10,11,12]])\n",
        "\n",
        "#print(array_consulta)\n",
        "print('-'*30)\n",
        "maior_array = array_consulta[array_consulta>8]\n",
        "menor_array = array_consulta[array_consulta<8]\n",
        "\n",
        "dividir_array_par = array_consulta[array_consulta%2==0]\n",
        "dividir_array_impar = array_consulta[array_consulta%2!=0]\n",
        "\n",
        "print(dividir_array_impar)\n"
      ],
      "metadata": {
        "colab": {
          "base_uri": "https://localhost:8080/"
        },
        "id": "Vr7e-hEDOxO6",
        "outputId": "12ab20c2-4358-480a-be25-09be598158ff"
      },
      "execution_count": null,
      "outputs": [
        {
          "output_type": "stream",
          "name": "stdout",
          "text": [
            "------------------------------\n",
            "[ 1  3  5  7  9 11]\n"
          ]
        }
      ]
    },
    {
      "cell_type": "code",
      "source": [
        "novo_array = np.array([1,2,3])\n",
        "\n",
        "print(novo_array.sum()) #soma\n",
        "print(novo_array.max()) #maximo\n",
        "print(novo_array.min()) #minimo \n",
        "print(novo_array.mean()) #media\n"
      ],
      "metadata": {
        "colab": {
          "base_uri": "https://localhost:8080/"
        },
        "id": "dkJli7KgZeX_",
        "outputId": "6116b09e-0059-48bf-fe2d-9bc2c236979e"
      },
      "execution_count": null,
      "outputs": [
        {
          "output_type": "stream",
          "name": "stdout",
          "text": [
            "6\n",
            "3\n",
            "1\n",
            "2.0\n"
          ]
        }
      ]
    },
    {
      "cell_type": "code",
      "source": [],
      "metadata": {
        "id": "NxsuKh3kaDRI"
      },
      "execution_count": null,
      "outputs": []
    },
    {
      "cell_type": "code",
      "source": [
        "#Geração de numeros aleatorios\n",
        "rng=default_rng()\n",
        "aleatorio = rng.integers(10, size=(2,4))\n",
        "print(aleatorio)"
      ],
      "metadata": {
        "colab": {
          "base_uri": "https://localhost:8080/"
        },
        "id": "BAModf9xadkq",
        "outputId": "c8281b5d-88ed-4f0c-b056-5766da0023c7"
      },
      "execution_count": null,
      "outputs": [
        {
          "output_type": "stream",
          "name": "stdout",
          "text": [
            "[[6 7 0 2]\n",
            " [6 0 6 5]]\n"
          ]
        }
      ]
    },
    {
      "cell_type": "code",
      "source": [
        "#Diferença \n",
        "novo_array_string = np.array([1,2,3])\n",
        "\n",
        "print(type(novo_array_string))\n",
        "print('-'*30)\n",
        "lista = [1,2,3]\n",
        "print(type(lista))\n"
      ],
      "metadata": {
        "colab": {
          "base_uri": "https://localhost:8080/"
        },
        "id": "FDr_08BQbMvp",
        "outputId": "4b9239ad-23ea-460f-f4cf-aff10f6b3738"
      },
      "execution_count": null,
      "outputs": [
        {
          "output_type": "stream",
          "name": "stdout",
          "text": [
            "<class 'numpy.ndarray'>\n",
            "------------------------------\n",
            "<class 'list'>\n"
          ]
        }
      ]
    },
    {
      "cell_type": "code",
      "source": [
        "#array transforma tudo em string caso tenha uma no meio\n",
        "novo_array_string = np.array([1,'Ilton',2,3]) # \n",
        "\n",
        "print(novo_array_string[1])\n",
        "print('-'*30)\n",
        "lista = [1,2,3]\n",
        "print(lista)\n"
      ],
      "metadata": {
        "colab": {
          "base_uri": "https://localhost:8080/"
        },
        "id": "1vDuyxffbmyh",
        "outputId": "35fed2bf-3c0e-4090-f93c-5066e7aca152"
      },
      "execution_count": null,
      "outputs": [
        {
          "output_type": "stream",
          "name": "stdout",
          "text": [
            "Ilton\n",
            "------------------------------\n",
            "[1, 2, 3]\n"
          ]
        }
      ]
    },
    {
      "cell_type": "markdown",
      "source": [
        "# Comparando o processamento"
      ],
      "metadata": {
        "id": "whQp5lEyc_WZ"
      }
    },
    {
      "cell_type": "code",
      "source": [
        "lista_a = list(rng.integers(10,100,1000000))\n",
        "lista_b = list(rng.integers(10,100,1000000))\n",
        "c = []\n",
        "#c = lista_a*lista_b #vai gerar um erro\n",
        "print(c)"
      ],
      "metadata": {
        "colab": {
          "base_uri": "https://localhost:8080/"
        },
        "id": "qfvss5nsdDGx",
        "outputId": "52465747-3824-4484-bcdd-8dd5d9b0cf15"
      },
      "execution_count": null,
      "outputs": [
        {
          "output_type": "stream",
          "name": "stdout",
          "text": [
            "[]\n"
          ]
        }
      ]
    },
    {
      "cell_type": "code",
      "source": [
        "c = [ ]\n",
        "t1 = process_time()\n",
        "for i in range(len(lista_a)):\n",
        "  c.append(lista_a[i]*lista_b[i])\n",
        "\n",
        "t2=process_time()\n",
        "print(t2-t1)"
      ],
      "metadata": {
        "colab": {
          "base_uri": "https://localhost:8080/"
        },
        "id": "3qSDwqcUeW2p",
        "outputId": "6a468396-1a5d-4bdf-9f35-648d4fea8a0f"
      },
      "execution_count": null,
      "outputs": [
        {
          "output_type": "stream",
          "name": "stdout",
          "text": [
            "0.29498603800000467\n"
          ]
        }
      ]
    },
    {
      "cell_type": "code",
      "source": [
        "array__a = rng.integers(10,100,1000000)\n",
        "array__b = rng.integers(10,100,1000000)\n",
        "t1 = process_time()\n",
        "c = array__a*array__b\n",
        "t2=process_time()\n",
        "print(t2-t1)"
      ],
      "metadata": {
        "colab": {
          "base_uri": "https://localhost:8080/"
        },
        "id": "oF9qC1l1f1wb",
        "outputId": "9bde93e1-5986-4e53-c262-dfcd2aade9a6"
      },
      "execution_count": null,
      "outputs": [
        {
          "output_type": "stream",
          "name": "stdout",
          "text": [
            "0.002102563000001112\n"
          ]
        }
      ]
    },
    {
      "cell_type": "code",
      "source": [
        "dados_x = rng.integers(20,size=30)\n",
        "dados_y = rng.integers(12,size=30)\n",
        "\n",
        "plt.scatter(x = dados_x,  y = dados_y)\n",
        "plt.show()"
      ],
      "metadata": {
        "colab": {
          "base_uri": "https://localhost:8080/",
          "height": 265
        },
        "id": "HDoW6PVph5_D",
        "outputId": "0fb605de-d565-449c-f525-fa8c9a1b5a0b"
      },
      "execution_count": null,
      "outputs": [
        {
          "output_type": "display_data",
          "data": {
            "text/plain": [
              "<Figure size 432x288 with 1 Axes>"
            ],
            "image/png": "[encoded data removed]"
          },
          "metadata": {
            "needs_background": "light"
          }
        }
      ]
    },
    {
      "cell_type": "code",
      "source": [
        "plt.scatter(x = array__a,  y = array__b)\n",
        "plt.show()"
      ],
      "metadata": {
        "colab": {
          "base_uri": "https://localhost:8080/",
          "height": 265
        },
        "id": "y1xrvdEci7zU",
        "outputId": "f476b956-6864-4674-cdc6-2a535b52ef68"
      },
      "execution_count": null,
      "outputs": [
        {
          "output_type": "display_data",
          "data": {
            "text/plain": [
              "<Figure size 432x288 with 1 Axes>"
            ],
            "image/png": "[encoded data removed]"
          },
          "metadata": {
            "needs_background": "light"
          }
        }
      ]
    }
  ]
}